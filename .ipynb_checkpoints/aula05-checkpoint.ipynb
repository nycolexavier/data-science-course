{
 "cells": [
  {
   "cell_type": "code",
   "execution_count": 4,
   "id": "a6d51204",
   "metadata": {
    "ExecuteTime": {
     "end_time": "2021-06-18T17:46:57.682671Z",
     "start_time": "2021-06-18T17:46:57.551700Z"
    }
   },
   "outputs": [],
   "source": [
    "import pandas as pd\n",
    "\n",
    "# load dataset\n",
    "data = pd.read_csv('datasets/kc_house_data.csv')"
   ]
  },
  {
   "cell_type": "code",
   "execution_count": 8,
   "id": "cc571405",
   "metadata": {
    "ExecuteTime": {
     "end_time": "2021-06-18T17:47:59.382097Z",
     "start_time": "2021-06-18T17:47:59.375098Z"
    }
   },
   "outputs": [
    {
     "name": "stdout",
     "output_type": "stream",
     "text": [
      "Number of rows: 21613\n",
      "Number of columns 21613\n"
     ]
    }
   ],
   "source": [
    "# data dimensions\n",
    "print('Number of rows: {}'.format(data.shape[0] ))\n",
    "print('Number of columns {}'.format(data.shape[0] ))"
   ]
  },
  {
   "cell_type": "code",
   "execution_count": 9,
   "id": "4f124508",
   "metadata": {
    "ExecuteTime": {
     "end_time": "2021-06-18T17:48:28.309412Z",
     "start_time": "2021-06-18T17:48:28.295414Z"
    }
   },
   "outputs": [
    {
     "data": {
      "text/plain": [
       "id                 int64\n",
       "date              object\n",
       "price            float64\n",
       "bedrooms           int64\n",
       "bathrooms        float64\n",
       "sqft_living        int64\n",
       "sqft_lot           int64\n",
       "floors           float64\n",
       "waterfront         int64\n",
       "view               int64\n",
       "condition          int64\n",
       "grade              int64\n",
       "sqft_above         int64\n",
       "sqft_basement      int64\n",
       "yr_built           int64\n",
       "yr_renovated       int64\n",
       "zipcode            int64\n",
       "lat              float64\n",
       "long             float64\n",
       "sqft_living15      int64\n",
       "sqft_lot15         int64\n",
       "dtype: object"
      ]
     },
     "execution_count": 9,
     "metadata": {},
     "output_type": "execute_result"
    }
   ],
   "source": [
    "# data types\n",
    "data.dtypes"
   ]
  },
  {
   "cell_type": "code",
   "execution_count": 10,
   "id": "d7d02ba7",
   "metadata": {
    "ExecuteTime": {
     "end_time": "2021-06-18T17:49:21.724288Z",
     "start_time": "2021-06-18T17:49:21.442293Z"
    }
   },
   "outputs": [],
   "source": [
    "# convert object to date\n",
    "data['date'] = pd.to_datetime(data ['date'])"
   ]
  },
  {
   "cell_type": "code",
   "execution_count": 11,
   "id": "dd1e111d",
   "metadata": {
    "ExecuteTime": {
     "end_time": "2021-06-18T17:49:35.310087Z",
     "start_time": "2021-06-18T17:49:35.262132Z"
    }
   },
   "outputs": [
    {
     "data": {
      "text/plain": [
       "id                        int64\n",
       "date             datetime64[ns]\n",
       "price                   float64\n",
       "bedrooms                  int64\n",
       "bathrooms               float64\n",
       "sqft_living               int64\n",
       "sqft_lot                  int64\n",
       "floors                  float64\n",
       "waterfront                int64\n",
       "view                      int64\n",
       "condition                 int64\n",
       "grade                     int64\n",
       "sqft_above                int64\n",
       "sqft_basement             int64\n",
       "yr_built                  int64\n",
       "yr_renovated              int64\n",
       "zipcode                   int64\n",
       "lat                     float64\n",
       "long                    float64\n",
       "sqft_living15             int64\n",
       "sqft_lot15                int64\n",
       "dtype: object"
      ]
     },
     "execution_count": 11,
     "metadata": {},
     "output_type": "execute_result"
    }
   ],
   "source": [
    "data.dtypes"
   ]
  },
  {
   "cell_type": "code",
   "execution_count": 13,
   "id": "741ee9bf",
   "metadata": {
    "ExecuteTime": {
     "end_time": "2021-06-18T17:53:10.214628Z",
     "start_time": "2021-06-18T17:53:10.034667Z"
    }
   },
   "outputs": [],
   "source": [
    "# descriptive statistics\n",
    "num_attributes = data.select_dtypes(include=['int64', 'float64'])\n",
    "# central tendency - media, mediana\n",
    "\n",
    "# dispersion - std, min, max"
   ]
  },
  {
   "cell_type": "code",
   "execution_count": 15,
   "id": "52507b88",
   "metadata": {
    "ExecuteTime": {
     "end_time": "2021-06-18T17:53:35.244930Z",
     "start_time": "2021-06-18T17:53:35.231970Z"
    }
   },
   "outputs": [
    {
     "data": {
      "text/plain": [
       "id                 int64\n",
       "price            float64\n",
       "bedrooms           int64\n",
       "bathrooms        float64\n",
       "sqft_living        int64\n",
       "sqft_lot           int64\n",
       "floors           float64\n",
       "waterfront         int64\n",
       "view               int64\n",
       "condition          int64\n",
       "grade              int64\n",
       "sqft_above         int64\n",
       "sqft_basement      int64\n",
       "yr_built           int64\n",
       "yr_renovated       int64\n",
       "zipcode            int64\n",
       "lat              float64\n",
       "long             float64\n",
       "sqft_living15      int64\n",
       "sqft_lot15         int64\n",
       "dtype: object"
      ]
     },
     "execution_count": 15,
     "metadata": {},
     "output_type": "execute_result"
    }
   ],
   "source": [
    "num_attributes.dtypes"
   ]
  }
 ],
 "metadata": {
  "kernelspec": {
   "display_name": "Python 3",
   "language": "python",
   "name": "python3"
  },
  "language_info": {
   "codemirror_mode": {
    "name": "ipython",
    "version": 3
   },
   "file_extension": ".py",
   "mimetype": "text/x-python",
   "name": "python",
   "nbconvert_exporter": "python",
   "pygments_lexer": "ipython3",
   "version": "3.8.8"
  },
  "varInspector": {
   "cols": {
    "lenName": 16,
    "lenType": 16,
    "lenVar": 40
   },
   "kernels_config": {
    "python": {
     "delete_cmd_postfix": "",
     "delete_cmd_prefix": "del ",
     "library": "var_list.py",
     "varRefreshCmd": "print(var_dic_list())"
    },
    "r": {
     "delete_cmd_postfix": ") ",
     "delete_cmd_prefix": "rm(",
     "library": "var_list.r",
     "varRefreshCmd": "cat(var_dic_list()) "
    }
   },
   "types_to_exclude": [
    "module",
    "function",
    "builtin_function_or_method",
    "instance",
    "_Feature"
   ],
   "window_display": false
  }
 },
 "nbformat": 4,
 "nbformat_minor": 5
}
