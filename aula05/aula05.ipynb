{
 "cells": [
  {
   "cell_type": "code",
   "execution_count": 39,
   "id": "a6d51204",
   "metadata": {
    "ExecuteTime": {
     "end_time": "2021-06-18T18:11:34.809386Z",
     "start_time": "2021-06-18T18:11:34.670419Z"
    }
   },
   "outputs": [],
   "source": [
    "import pandas as pd\n",
    "import numpy as np\n",
    "pd.set_option('display.float_format', lambda x: '%.3f' % x)\n",
    "from geopy.geoencoders import Nominatim \n",
    "\n",
    "# load dataset\n",
    "data = pd.read_csv('datasets/kc_house_data.csv')"
   ]
  },
  {
   "cell_type": "code",
   "execution_count": 8,
   "id": "a6c09479",
   "metadata": {
    "ExecuteTime": {
     "end_time": "2021-06-18T17:47:59.382097Z",
     "start_time": "2021-06-18T17:47:59.375098Z"
    }
   },
   "outputs": [
    {
     "name": "stdout",
     "output_type": "stream",
     "text": [
      "Number of rows: 21613\n",
      "Number of columns 21613\n"
     ]
    }
   ],
   "source": [
    "# data dimensions\n",
    "print('Number of rows: {}'.format(data.shape[0] ))\n",
    "print('Number of columns {}'.format(data.shape[0] ))"
   ]
  },
  {
   "cell_type": "code",
   "execution_count": 9,
   "id": "79e85f5b",
   "metadata": {
    "ExecuteTime": {
     "end_time": "2021-06-18T17:48:28.309412Z",
     "start_time": "2021-06-18T17:48:28.295414Z"
    }
   },
   "outputs": [
    {
     "data": {
      "text/plain": [
       "id                 int64\n",
       "date              object\n",
       "price            float64\n",
       "bedrooms           int64\n",
       "bathrooms        float64\n",
       "sqft_living        int64\n",
       "sqft_lot           int64\n",
       "floors           float64\n",
       "waterfront         int64\n",
       "view               int64\n",
       "condition          int64\n",
       "grade              int64\n",
       "sqft_above         int64\n",
       "sqft_basement      int64\n",
       "yr_built           int64\n",
       "yr_renovated       int64\n",
       "zipcode            int64\n",
       "lat              float64\n",
       "long             float64\n",
       "sqft_living15      int64\n",
       "sqft_lot15         int64\n",
       "dtype: object"
      ]
     },
     "execution_count": 9,
     "metadata": {},
     "output_type": "execute_result"
    }
   ],
   "source": [
    "# data types\n",
    "data.dtypes"
   ]
  },
  {
   "cell_type": "code",
   "execution_count": 10,
   "id": "91d038e5",
   "metadata": {
    "ExecuteTime": {
     "end_time": "2021-06-18T17:49:21.724288Z",
     "start_time": "2021-06-18T17:49:21.442293Z"
    }
   },
   "outputs": [],
   "source": [
    "# convert object to date\n",
    "data['date'] = pd.to_datetime(data ['date'])"
   ]
  },
  {
   "cell_type": "code",
   "execution_count": 11,
   "id": "db07d5e2",
   "metadata": {
    "ExecuteTime": {
     "end_time": "2021-06-18T17:49:35.310087Z",
     "start_time": "2021-06-18T17:49:35.262132Z"
    }
   },
   "outputs": [
    {
     "data": {
      "text/plain": [
       "id                        int64\n",
       "date             datetime64[ns]\n",
       "price                   float64\n",
       "bedrooms                  int64\n",
       "bathrooms               float64\n",
       "sqft_living               int64\n",
       "sqft_lot                  int64\n",
       "floors                  float64\n",
       "waterfront                int64\n",
       "view                      int64\n",
       "condition                 int64\n",
       "grade                     int64\n",
       "sqft_above                int64\n",
       "sqft_basement             int64\n",
       "yr_built                  int64\n",
       "yr_renovated              int64\n",
       "zipcode                   int64\n",
       "lat                     float64\n",
       "long                    float64\n",
       "sqft_living15             int64\n",
       "sqft_lot15                int64\n",
       "dtype: object"
      ]
     },
     "execution_count": 11,
     "metadata": {},
     "output_type": "execute_result"
    }
   ],
   "source": [
    "data.dtypes"
   ]
  },
  {
   "cell_type": "code",
   "execution_count": 41,
   "id": "45fad60a",
   "metadata": {
    "ExecuteTime": {
     "end_time": "2021-06-18T18:11:41.164569Z",
     "start_time": "2021-06-18T18:11:41.063592Z"
    }
   },
   "outputs": [],
   "source": [
    "# descriptive statistics\n",
    "num_attributes = data.select_dtypes(include=['int64', 'float64'])\n",
    "\n",
    "# central tendency - media, mediana\n",
    "media = pd.DataFrame (num_attributes.apply(np.mean, axis=0) )\n",
    "mediana = pd.DataFrame (num_attributes.apply(np.median, axis=0) )\n",
    "\n",
    "# dispersion - std, min, max\n",
    "std = pd.DataFrame (num_attributes.apply (np.std, axis=0) )\n",
    "min_ = pd.DataFrame (num_attributes.apply (np.min, axis=0) )\n",
    "max_ = pd.DataFrame (num_attributes.apply (np.max, axis=0) )\n",
    "\n",
    "df1 = pd.concat ( [max_, min_, media, mediana, std], axis=1).reset_index()\n",
    "df1.columns = ['attributes', 'maximo', 'minimo', 'media', 'mediana','std']"
   ]
  },
  {
   "cell_type": "code",
   "execution_count": 40,
   "id": "9fa514ba",
   "metadata": {
    "ExecuteTime": {
     "end_time": "2021-06-18T18:11:37.832686Z",
     "start_time": "2021-06-18T18:11:37.763707Z"
    },
    "collapsed": true
   },
   "outputs": [
    {
     "data": {
      "text/html": [
       "<div>\n",
       "<style scoped>\n",
       "    .dataframe tbody tr th:only-of-type {\n",
       "        vertical-align: middle;\n",
       "    }\n",
       "\n",
       "    .dataframe tbody tr th {\n",
       "        vertical-align: top;\n",
       "    }\n",
       "\n",
       "    .dataframe thead th {\n",
       "        text-align: right;\n",
       "    }\n",
       "</style>\n",
       "<table border=\"1\" class=\"dataframe\">\n",
       "  <thead>\n",
       "    <tr style=\"text-align: right;\">\n",
       "      <th></th>\n",
       "      <th>attributes</th>\n",
       "      <th>maximo</th>\n",
       "      <th>minimo</th>\n",
       "      <th>media</th>\n",
       "      <th>mediana</th>\n",
       "      <th>std</th>\n",
       "    </tr>\n",
       "  </thead>\n",
       "  <tbody>\n",
       "    <tr>\n",
       "      <th>0</th>\n",
       "      <td>id</td>\n",
       "      <td>9900000190.000</td>\n",
       "      <td>1000102.000</td>\n",
       "      <td>4580301520.865</td>\n",
       "      <td>3904930410.000</td>\n",
       "      <td>2876499023.428</td>\n",
       "    </tr>\n",
       "    <tr>\n",
       "      <th>1</th>\n",
       "      <td>price</td>\n",
       "      <td>7700000.000</td>\n",
       "      <td>75000.000</td>\n",
       "      <td>540088.142</td>\n",
       "      <td>450000.000</td>\n",
       "      <td>367118.703</td>\n",
       "    </tr>\n",
       "    <tr>\n",
       "      <th>2</th>\n",
       "      <td>bedrooms</td>\n",
       "      <td>33.000</td>\n",
       "      <td>0.000</td>\n",
       "      <td>3.371</td>\n",
       "      <td>3.000</td>\n",
       "      <td>0.930</td>\n",
       "    </tr>\n",
       "    <tr>\n",
       "      <th>3</th>\n",
       "      <td>bathrooms</td>\n",
       "      <td>8.000</td>\n",
       "      <td>0.000</td>\n",
       "      <td>2.115</td>\n",
       "      <td>2.250</td>\n",
       "      <td>0.770</td>\n",
       "    </tr>\n",
       "    <tr>\n",
       "      <th>4</th>\n",
       "      <td>sqft_living</td>\n",
       "      <td>13540.000</td>\n",
       "      <td>290.000</td>\n",
       "      <td>2079.900</td>\n",
       "      <td>1910.000</td>\n",
       "      <td>918.420</td>\n",
       "    </tr>\n",
       "    <tr>\n",
       "      <th>5</th>\n",
       "      <td>sqft_lot</td>\n",
       "      <td>1651359.000</td>\n",
       "      <td>520.000</td>\n",
       "      <td>15106.968</td>\n",
       "      <td>7618.000</td>\n",
       "      <td>41419.553</td>\n",
       "    </tr>\n",
       "    <tr>\n",
       "      <th>6</th>\n",
       "      <td>floors</td>\n",
       "      <td>3.500</td>\n",
       "      <td>1.000</td>\n",
       "      <td>1.494</td>\n",
       "      <td>1.500</td>\n",
       "      <td>0.540</td>\n",
       "    </tr>\n",
       "    <tr>\n",
       "      <th>7</th>\n",
       "      <td>waterfront</td>\n",
       "      <td>1.000</td>\n",
       "      <td>0.000</td>\n",
       "      <td>0.008</td>\n",
       "      <td>0.000</td>\n",
       "      <td>0.087</td>\n",
       "    </tr>\n",
       "    <tr>\n",
       "      <th>8</th>\n",
       "      <td>view</td>\n",
       "      <td>4.000</td>\n",
       "      <td>0.000</td>\n",
       "      <td>0.234</td>\n",
       "      <td>0.000</td>\n",
       "      <td>0.766</td>\n",
       "    </tr>\n",
       "    <tr>\n",
       "      <th>9</th>\n",
       "      <td>condition</td>\n",
       "      <td>5.000</td>\n",
       "      <td>1.000</td>\n",
       "      <td>3.409</td>\n",
       "      <td>3.000</td>\n",
       "      <td>0.651</td>\n",
       "    </tr>\n",
       "    <tr>\n",
       "      <th>10</th>\n",
       "      <td>grade</td>\n",
       "      <td>13.000</td>\n",
       "      <td>1.000</td>\n",
       "      <td>7.657</td>\n",
       "      <td>7.000</td>\n",
       "      <td>1.175</td>\n",
       "    </tr>\n",
       "    <tr>\n",
       "      <th>11</th>\n",
       "      <td>sqft_above</td>\n",
       "      <td>9410.000</td>\n",
       "      <td>290.000</td>\n",
       "      <td>1788.391</td>\n",
       "      <td>1560.000</td>\n",
       "      <td>828.072</td>\n",
       "    </tr>\n",
       "    <tr>\n",
       "      <th>12</th>\n",
       "      <td>sqft_basement</td>\n",
       "      <td>4820.000</td>\n",
       "      <td>0.000</td>\n",
       "      <td>291.509</td>\n",
       "      <td>0.000</td>\n",
       "      <td>442.565</td>\n",
       "    </tr>\n",
       "    <tr>\n",
       "      <th>13</th>\n",
       "      <td>yr_built</td>\n",
       "      <td>2015.000</td>\n",
       "      <td>1900.000</td>\n",
       "      <td>1971.005</td>\n",
       "      <td>1975.000</td>\n",
       "      <td>29.373</td>\n",
       "    </tr>\n",
       "    <tr>\n",
       "      <th>14</th>\n",
       "      <td>yr_renovated</td>\n",
       "      <td>2015.000</td>\n",
       "      <td>0.000</td>\n",
       "      <td>84.402</td>\n",
       "      <td>0.000</td>\n",
       "      <td>401.670</td>\n",
       "    </tr>\n",
       "    <tr>\n",
       "      <th>15</th>\n",
       "      <td>zipcode</td>\n",
       "      <td>98199.000</td>\n",
       "      <td>98001.000</td>\n",
       "      <td>98077.940</td>\n",
       "      <td>98065.000</td>\n",
       "      <td>53.504</td>\n",
       "    </tr>\n",
       "    <tr>\n",
       "      <th>16</th>\n",
       "      <td>lat</td>\n",
       "      <td>47.778</td>\n",
       "      <td>47.156</td>\n",
       "      <td>47.560</td>\n",
       "      <td>47.572</td>\n",
       "      <td>0.139</td>\n",
       "    </tr>\n",
       "    <tr>\n",
       "      <th>17</th>\n",
       "      <td>long</td>\n",
       "      <td>-121.315</td>\n",
       "      <td>-122.519</td>\n",
       "      <td>-122.214</td>\n",
       "      <td>-122.230</td>\n",
       "      <td>0.141</td>\n",
       "    </tr>\n",
       "    <tr>\n",
       "      <th>18</th>\n",
       "      <td>sqft_living15</td>\n",
       "      <td>6210.000</td>\n",
       "      <td>399.000</td>\n",
       "      <td>1986.552</td>\n",
       "      <td>1840.000</td>\n",
       "      <td>685.375</td>\n",
       "    </tr>\n",
       "    <tr>\n",
       "      <th>19</th>\n",
       "      <td>sqft_lot15</td>\n",
       "      <td>871200.000</td>\n",
       "      <td>651.000</td>\n",
       "      <td>12768.456</td>\n",
       "      <td>7620.000</td>\n",
       "      <td>27303.548</td>\n",
       "    </tr>\n",
       "  </tbody>\n",
       "</table>\n",
       "</div>"
      ],
      "text/plain": [
       "       attributes         maximo      minimo          media        mediana  \\\n",
       "0              id 9900000190.000 1000102.000 4580301520.865 3904930410.000   \n",
       "1           price    7700000.000   75000.000     540088.142     450000.000   \n",
       "2        bedrooms         33.000       0.000          3.371          3.000   \n",
       "3       bathrooms          8.000       0.000          2.115          2.250   \n",
       "4     sqft_living      13540.000     290.000       2079.900       1910.000   \n",
       "5        sqft_lot    1651359.000     520.000      15106.968       7618.000   \n",
       "6          floors          3.500       1.000          1.494          1.500   \n",
       "7      waterfront          1.000       0.000          0.008          0.000   \n",
       "8            view          4.000       0.000          0.234          0.000   \n",
       "9       condition          5.000       1.000          3.409          3.000   \n",
       "10          grade         13.000       1.000          7.657          7.000   \n",
       "11     sqft_above       9410.000     290.000       1788.391       1560.000   \n",
       "12  sqft_basement       4820.000       0.000        291.509          0.000   \n",
       "13       yr_built       2015.000    1900.000       1971.005       1975.000   \n",
       "14   yr_renovated       2015.000       0.000         84.402          0.000   \n",
       "15        zipcode      98199.000   98001.000      98077.940      98065.000   \n",
       "16            lat         47.778      47.156         47.560         47.572   \n",
       "17           long       -121.315    -122.519       -122.214       -122.230   \n",
       "18  sqft_living15       6210.000     399.000       1986.552       1840.000   \n",
       "19     sqft_lot15     871200.000     651.000      12768.456       7620.000   \n",
       "\n",
       "              std  \n",
       "0  2876499023.428  \n",
       "1      367118.703  \n",
       "2           0.930  \n",
       "3           0.770  \n",
       "4         918.420  \n",
       "5       41419.553  \n",
       "6           0.540  \n",
       "7           0.087  \n",
       "8           0.766  \n",
       "9           0.651  \n",
       "10          1.175  \n",
       "11        828.072  \n",
       "12        442.565  \n",
       "13         29.373  \n",
       "14        401.670  \n",
       "15         53.504  \n",
       "16          0.139  \n",
       "17          0.141  \n",
       "18        685.375  \n",
       "19      27303.548  "
      ]
     },
     "execution_count": 40,
     "metadata": {},
     "output_type": "execute_result"
    }
   ],
   "source": [
    "df1"
   ]
  },
  {
   "cell_type": "code",
   "execution_count": null,
   "id": "c78d9c90",
   "metadata": {},
   "outputs": [],
   "source": []
  }
 ],
 "metadata": {
  "kernelspec": {
   "display_name": "Python 3",
   "language": "python",
   "name": "python3"
  },
  "language_info": {
   "codemirror_mode": {
    "name": "ipython",
    "version": 3
   },
   "file_extension": ".py",
   "mimetype": "text/x-python",
   "name": "python",
   "nbconvert_exporter": "python",
   "pygments_lexer": "ipython3",
   "version": "3.8.8"
  },
  "varInspector": {
   "cols": {
    "lenName": 16,
    "lenType": 16,
    "lenVar": 40
   },
   "kernels_config": {
    "python": {
     "delete_cmd_postfix": "",
     "delete_cmd_prefix": "del ",
     "library": "var_list.py",
     "varRefreshCmd": "print(var_dic_list())"
    },
    "r": {
     "delete_cmd_postfix": ") ",
     "delete_cmd_prefix": "rm(",
     "library": "var_list.r",
     "varRefreshCmd": "cat(var_dic_list()) "
    }
   },
   "types_to_exclude": [
    "module",
    "function",
    "builtin_function_or_method",
    "instance",
    "_Feature"
   ],
   "window_display": false
  }
 },
 "nbformat": 4,
 "nbformat_minor": 5
}
